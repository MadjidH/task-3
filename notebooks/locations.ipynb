{
 "cells": [
  {
   "cell_type": "markdown",
   "id": "f04af3b3-7409-4f79-ace5-b3675c493906",
   "metadata": {},
   "source": [
    "# Map Visualisation of the Dataset"
   ]
  },
  {
   "cell_type": "code",
   "execution_count": null,
   "id": "afe8b8b8-5468-4e97-af88-7dda40dd7a24",
   "metadata": {},
   "outputs": [],
   "source": [
    "from pathlib import Path\n",
    "\n",
    "import numpy as np\n",
    "import pandas as pd\n",
    "\n",
    "from shipsnet.data import load_data_from_json\n",
    "from shipsnet.viz import array_to_rgb_image\n",
    "\n",
    "%load_ext jupyter_black"
   ]
  },
  {
   "cell_type": "code",
   "execution_count": null,
   "id": "3479db1f-d239-4d3d-b45c-f044523d9888",
   "metadata": {},
   "outputs": [],
   "source": [
    "data_dict = load_data_from_json()\n",
    "\n",
    "data_df = pd.DataFrame(data_dict)\n",
    "data_df.info()\n",
    "data_df.head()"
   ]
  },
  {
   "cell_type": "code",
   "execution_count": null,
   "id": "098a90e9-e7af-49f5-b7dc-a1663a452d80",
   "metadata": {},
   "outputs": [],
   "source": [
    "lon, lat = np.array(data_dict[\"locations\"]).T\n",
    "\n",
    "df = data_df.drop(columns=[\"locations\", \"data\"])\n",
    "df[\"lon\"] = lon\n",
    "df[\"lat\"] = lat\n",
    "\n",
    "df[\"labels\"] = df.labels.apply(lambda label: \"ship\" if label else \"no ship\")\n",
    "\n",
    "df.head()"
   ]
  },
  {
   "cell_type": "markdown",
   "id": "68d87728-d5e7-4d59-857b-dbe45d0ec537",
   "metadata": {
    "tags": []
   },
   "source": [
    "# Quick visualisation using Plotly"
   ]
  },
  {
   "cell_type": "code",
   "execution_count": null,
   "id": "b573b4f6-08cb-4131-8c61-11a221d85967",
   "metadata": {},
   "outputs": [],
   "source": [
    "import plotly.express as px"
   ]
  },
  {
   "cell_type": "code",
   "execution_count": null,
   "id": "09e4e612-3e3d-48df-92a6-a5751d6bbcf0",
   "metadata": {},
   "outputs": [],
   "source": [
    "px.scatter_geo(\n",
    "    df,\n",
    "    lat=\"lat\",\n",
    "    lon=\"lon\",\n",
    "    hover_name=\"scene_ids\",\n",
    "    scope=\"usa\",\n",
    "    title=\"image locations\",\n",
    ")"
   ]
  },
  {
   "cell_type": "markdown",
   "id": "e2beb170-d2a7-40e1-b855-193104002331",
   "metadata": {},
   "source": [
    "Looks like there's two clusters at San Francisco and Los Angeles. Let's split the dataset into these clusters."
   ]
  },
  {
   "cell_type": "code",
   "execution_count": null,
   "id": "a2b6bb1a-42cd-4e2c-ba3a-aa29c9dab8be",
   "metadata": {},
   "outputs": [],
   "source": [
    "df_sf = df[df.lat > 35]  # san francisco\n",
    "df_la = df[df.lat < 35]  # los angeles"
   ]
  },
  {
   "cell_type": "code",
   "execution_count": null,
   "id": "26d34e49-e7be-4165-a4bc-bd24ac91a499",
   "metadata": {},
   "outputs": [],
   "source": [
    "fig = px.scatter_geo(\n",
    "    df_sf[::-1],  # so ship images are on top of no-ship images\n",
    "    lat=\"lat\",\n",
    "    lon=\"lon\",\n",
    "    hover_name=\"scene_ids\",\n",
    "    color=\"labels\",\n",
    "    color_discrete_map={\"ship\": \"red\", \"no ship\": \"grey\"},\n",
    "    fitbounds=\"locations\",\n",
    "    scope=\"north america\",\n",
    "    title=\"Image Locations: San Francisco Bay\",\n",
    ")\n",
    "fig.update_geos(\n",
    "    resolution=50,\n",
    "    showcoastlines=True,\n",
    "    coastlinecolor=\"RebeccaPurple\",\n",
    "    showland=True,\n",
    "    landcolor=\"LightGreen\",\n",
    "    showocean=True,\n",
    "    oceancolor=\"LightBlue\",\n",
    ")\n",
    "fig.update_layout(height=300, margin={\"r\": 0, \"t\": 50, \"l\": 0, \"b\": 0})"
   ]
  },
  {
   "cell_type": "code",
   "execution_count": null,
   "id": "4879845b-d018-443e-ac23-235796bfa86b",
   "metadata": {},
   "outputs": [],
   "source": [
    "fig = px.scatter_geo(\n",
    "    df_la[::-1],\n",
    "    lat=\"lat\",\n",
    "    lon=\"lon\",\n",
    "    hover_name=\"scene_ids\",\n",
    "    color=\"labels\",\n",
    "    color_discrete_map={\"ship\": \"red\", \"no ship\": \"grey\"},\n",
    "    fitbounds=\"locations\",\n",
    "    scope=\"north america\",\n",
    "    title=\"Image Locations: San Pedro Bay\",\n",
    ")\n",
    "fig.update_geos(\n",
    "    resolution=50,\n",
    "    showcoastlines=True,\n",
    "    coastlinecolor=\"RebeccaPurple\",\n",
    "    showland=True,\n",
    "    landcolor=\"LightGreen\",\n",
    "    showocean=True,\n",
    "    oceancolor=\"LightBlue\",\n",
    ")\n",
    "fig.update_layout(height=300, margin={\"r\": 0, \"t\": 50, \"l\": 0, \"b\": 0})"
   ]
  },
  {
   "cell_type": "markdown",
   "id": "9a605eab-9ab9-4dfc-92c7-90580e13af2f",
   "metadata": {},
   "source": [
    "# Interactive Leaflet Map"
   ]
  },
  {
   "cell_type": "code",
   "execution_count": null,
   "id": "a490f468-6c27-4206-9465-f3d545aa1f3b",
   "metadata": {},
   "outputs": [],
   "source": [
    "from ipywidgets import HTML, Image\n",
    "from ipyleaflet import (\n",
    "    Map,\n",
    "    basemaps,\n",
    "    GeoData,\n",
    "    WidgetControl,\n",
    ")\n",
    "import geopandas as gpd\n",
    "\n",
    "images_dir = Path(\"../data/shipsnet/shipsnet\")"
   ]
  },
  {
   "cell_type": "code",
   "execution_count": null,
   "id": "40e9b02d-0cbb-4296-9bc4-511063d2261c",
   "metadata": {},
   "outputs": [],
   "source": [
    "df_ = df_la  # choose which dataset to plot\n",
    "\n",
    "leafmap = Map(\n",
    "    center=(df_.lat.mean(), df_.lon.mean()),\n",
    "    zoom=10,\n",
    ")\n",
    "\n",
    "gdf = gpd.GeoDataFrame(df_, geometry=gpd.points_from_xy(df_.lon, df_.lat))\n",
    "\n",
    "data = GeoData(\n",
    "    geo_dataframe=gdf,\n",
    "    point_style={\n",
    "        \"radius\": 5,  # point size\n",
    "        \"weight\": 2,  # edge width\n",
    "        \"color\": \"green\",  # edge colour\n",
    "        \"opacity\": 1,  # edge opacity\n",
    "        \"fillColor\": \"green\",\n",
    "        \"fillOpacity\": 0.2,\n",
    "    },\n",
    "    hover_style={\"color\": \"red\"},\n",
    ")\n",
    "leafmap.add_layer(data)\n",
    "\n",
    "\n",
    "# HTML info box\n",
    "html = HTML(\"Click any point to display image info\")\n",
    "html_control = WidgetControl(widget=html, position=\"bottomright\")\n",
    "leafmap.add_control(html_control)\n",
    "\n",
    "image = Image(value=b\"\", format=\"png\", width=80, height=80)\n",
    "im_control = WidgetControl(widget=image, position=\"bottomleft\")\n",
    "leafmap.add_control(im_control)\n",
    "\n",
    "\n",
    "def on_click(feature, **kwargs):\n",
    "    label = feature[\"properties\"][\"labels\"]\n",
    "    scene_id = feature[\"properties\"][\"scene_ids\"]\n",
    "    lon = feature[\"properties\"][\"lon\"]\n",
    "    lat = feature[\"properties\"][\"lat\"]\n",
    "    html.value = f\"\"\"\n",
    "<pre>\n",
    "<b>Label</b>     : {label}\n",
    "<b>Scene ID</b>  : {scene_id}\n",
    "<b>Latitude</b>  : {lat}\n",
    "<b>Longitude</b> : {lon}\n",
    "</pre>\n",
    "\"\"\"\n",
    "    lab = 1 if label == \"ship\" else 0\n",
    "    filename = f\"{lab}__{scene_id}__{lon}_{lat}.png\"\n",
    "    with images_dir.joinpath(filename).open(\"rb\") as file:\n",
    "        image.value = file.read()\n",
    "\n",
    "\n",
    "data.on_click(on_click)\n",
    "\n",
    "leafmap"
   ]
  },
  {
   "cell_type": "code",
   "execution_count": null,
   "id": "de5214be-a2f7-4a1c-a4a8-ed02aa4a8955",
   "metadata": {},
   "outputs": [],
   "source": []
  }
 ],
 "metadata": {
  "kernelspec": {
   "display_name": "Python 3 (ipykernel)",
   "language": "python",
   "name": "python3"
  },
  "language_info": {
   "codemirror_mode": {
    "name": "ipython",
    "version": 3
   },
   "file_extension": ".py",
   "mimetype": "text/x-python",
   "name": "python",
   "nbconvert_exporter": "python",
   "pygments_lexer": "ipython3",
   "version": "3.9.13"
  }
 },
 "nbformat": 4,
 "nbformat_minor": 5
}
