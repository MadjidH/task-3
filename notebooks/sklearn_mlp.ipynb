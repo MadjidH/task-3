{
 "cells": [
  {
   "cell_type": "markdown",
   "id": "1521d019-938d-40df-8274-812ebd6ae622",
   "metadata": {},
   "source": [
    "# Multi-Layer Perceptron Binary Classifier using Scikit-Learn"
   ]
  },
  {
   "cell_type": "code",
   "execution_count": null,
   "id": "6a20f19b-0a4f-44e1-8364-c485ebcd1ed6",
   "metadata": {},
   "outputs": [],
   "source": [
    "from itertools import product\n",
    "\n",
    "import matplotlib.pyplot as plt\n",
    "import numpy as np\n",
    "import pandas as pd\n",
    "from sklearn.neural_network import MLPClassifier\n",
    "from sklearn.model_selection import GridSearchCV, train_test_split\n",
    "from sklearn.metrics import (\n",
    "    classification_report,\n",
    "    precision_recall_fscore_support,\n",
    "    matthews_corrcoef,\n",
    "    ConfusionMatrixDisplay,\n",
    "    RocCurveDisplay,\n",
    "    DetCurveDisplay,\n",
    "    PrecisionRecallDisplay,\n",
    ")\n",
    "\n",
    "from shipsnet.data import load_data_from_json\n",
    "from shipsnet.viz import array_to_rgb_image"
   ]
  },
  {
   "cell_type": "code",
   "execution_count": null,
   "id": "7ccbcfe3-40a7-48a3-a499-3378a3fd0ff3",
   "metadata": {},
   "outputs": [],
   "source": [
    "RAW_DATA = load_data_from_json()"
   ]
  },
  {
   "cell_type": "markdown",
   "id": "43f88026-0f6e-4cc0-8e5d-4af91928d1f4",
   "metadata": {},
   "source": [
    "# Sanity Checks"
   ]
  },
  {
   "cell_type": "markdown",
   "id": "d3f7cc2f-fb99-451e-94d6-967104751547",
   "metadata": {},
   "source": [
    "## Data check\n",
    "\n",
    "Checks that images are being loaded correctly from json file."
   ]
  },
  {
   "cell_type": "code",
   "execution_count": null,
   "id": "a1db6470-b80d-401e-a236-d90fc5dd66b0",
   "metadata": {},
   "outputs": [],
   "source": [
    "pixels = np.array(RAW_DATA[\"data\"], dtype=\"uint8\").reshape(-1, 3, 80, 80)\n",
    "\n",
    "fig, axes = plt.subplots(3, 4)\n",
    "\n",
    "for array, ax in zip(np.random.permutation(pixels), axes.flatten()):\n",
    "    ax.imshow(array_to_rgb_image(array))\n",
    "    ax.set_axis_off()\n",
    "    \n",
    "fig.tight_layout()\n",
    "plt.show()"
   ]
  },
  {
   "cell_type": "markdown",
   "id": "b6960eca-0411-46ee-9e1a-09b013181b6f",
   "metadata": {},
   "source": [
    "## Example of training and classification metrics"
   ]
  },
  {
   "cell_type": "code",
   "execution_count": null,
   "id": "8930375a-c4f8-4361-affe-e80e782fbca1",
   "metadata": {},
   "outputs": [],
   "source": [
    "inputs = np.array(RAW_DATA[\"data\"], dtype=float)\n",
    "labels = np.array(RAW_DATA[\"labels\"], dtype=float)\n",
    "\n",
    "# NOTE: this is better than adding a standardisation transform to the pipeline\n",
    "inputs = inputs / 255 - 0.5\n",
    "\n",
    "X_train, X_test, y_train, y_test = train_test_split(inputs, labels, shuffle=True)\n",
    "\n",
    "model = MLPClassifier(\n",
    "    hidden_layer_sizes=(10,),\n",
    "    activation=\"relu\",\n",
    "    solver=\"adam\",\n",
    "    batch_size=32,\n",
    "    learning_rate=\"adaptive\",\n",
    "    max_iter=50,\n",
    "    shuffle=True,\n",
    "    random_state=None,\n",
    "    early_stopping=True,\n",
    ")\n",
    "trained_model = model.fit(X_train, y_train)\n",
    "\n",
    "fig, ax = plt.subplots()\n",
    "ax.plot(trained_model.loss_curve_, \"o-\")\n",
    "ax.set_xlabel(\"epoch\")\n",
    "ax.set_ylabel(\"train loss\")\n",
    "ax.set_yscale(\"log\")"
   ]
  },
  {
   "cell_type": "code",
   "execution_count": null,
   "id": "f5384e7c-b50a-4be2-b397-c12da578e7af",
   "metadata": {},
   "outputs": [],
   "source": [
    "y_pred_class = trained_model.predict(X_test)\n",
    "y_pred_prob = trained_model.predict_proba(X_test)[:, 1]\n",
    "\n",
    "precision, recall, fscore, support = precision_recall_fscore_support(\n",
    "        y_test, y_pred_class, average=\"binary\"\n",
    ")\n",
    "matthews = matthews_corrcoef(y_test, y_pred_class)\n",
    "\n",
    "print(classification_report(y_test, y_pred_class, target_names=[\"no ship (0)\", \"ship (1)\"]))\n",
    "print(f\"matthews: {matthews:.2g}\")"
   ]
  },
  {
   "cell_type": "code",
   "execution_count": null,
   "id": "31430876-4555-4b47-a856-c1c6ef86265c",
   "metadata": {},
   "outputs": [],
   "source": [
    "fig, axes = plt.subplots(2, 2, figsize=(8, 8))\n",
    "\n",
    "for metric, y_pred, ax in zip(\n",
    "    [ConfusionMatrixDisplay, RocCurveDisplay, DetCurveDisplay, PrecisionRecallDisplay],\n",
    "    [y_pred_class, y_pred_prob, y_pred_prob, y_pred_prob],\n",
    "    axes.flatten()\n",
    "):\n",
    "    disp = metric.from_predictions(y_test, y_pred, ax=ax)\n",
    "    ax.set_title(metric.__name__.replace(\"Display\", \"\"))\n",
    "\n",
    "fig.tight_layout()"
   ]
  },
  {
   "cell_type": "markdown",
   "id": "418e07a1-761e-4714-96f6-6cdf40f6fb60",
   "metadata": {},
   "source": [
    "## Reproducibility check"
   ]
  },
  {
   "cell_type": "code",
   "execution_count": null,
   "id": "2fff4e7d-6a59-4d95-bf0d-cb4e63f6a517",
   "metadata": {},
   "outputs": [],
   "source": [
    "def reproducible_train(seed) -> list[np.ndarray]:\n",
    "    rng = np.random.RandomState(seed)\n",
    "    \n",
    "    inputs = np.array(RAW_DATA[\"data\"], dtype=float)\n",
    "    labels = np.array(RAW_DATA[\"labels\"], dtype=float)\n",
    "    inputs = inputs / 255 - 0.5\n",
    "    X_train, X_test, y_train, y_test = train_test_split(inputs, labels, random_state=rng, shuffle=True)\n",
    "    \n",
    "    model = MLPClassifier(\n",
    "        hidden_layer_sizes=(10,),\n",
    "        shuffle=True,\n",
    "        random_state=rng,\n",
    "        max_iter=2,\n",
    "    )\n",
    "    trained_model = model.fit(X_train, y_train)\n",
    "\n",
    "    return trained_model.coefs_ + trained_model.intercepts_\n",
    "\n",
    "seed = 123456789\n",
    "\n",
    "params_1 = reproducible_train(seed)\n",
    "params_2 = reproducible_train(seed)\n",
    "\n",
    "assert all([np.allclose(a, b) for a, b in zip(params_1, params_2)])"
   ]
  },
  {
   "cell_type": "markdown",
   "id": "bbafa93c-9ffb-44ea-ad93-83b89fb37d4e",
   "metadata": {},
   "source": [
    "# Hyperparameter scan"
   ]
  },
  {
   "cell_type": "code",
   "execution_count": null,
   "id": "f541b563-3909-423f-b4ad-34cf2effac48",
   "metadata": {},
   "outputs": [],
   "source": [
    "model = MLPClassifier(\n",
    "    hidden_layer_sizes=(10,),\n",
    "    solver=\"adam\",\n",
    "    activation=\"relu\",\n",
    "    batch_size=32,\n",
    "    learning_rate=\"adaptive\",\n",
    "    max_iter=50,\n",
    "    shuffle=True,\n",
    "    early_stopping=True,\n",
    ")\n",
    "params = {\n",
    "    \"alpha\": [0.001, 0.0001, 0.00001],\n",
    "    \"learning_rate_init\": [0.01, 0.001, 0.0001],\n",
    "}\n",
    "gs = GridSearchCV(\n",
    "    estimator=model,\n",
    "    param_grid=params,\n",
    "    scoring=\"f1\",\n",
    "    n_jobs=4,\n",
    "    verbose=4,\n",
    "    cv=3,\n",
    ")"
   ]
  },
  {
   "cell_type": "code",
   "execution_count": null,
   "id": "6fee2eca-9d60-4608-9086-3dac6c0fe2c0",
   "metadata": {},
   "outputs": [],
   "source": [
    "inputs = np.array(RAW_DATA[\"data\"], dtype=float)\n",
    "labels = np.array(RAW_DATA[\"labels\"], dtype=float)\n",
    "inputs = inputs / 255 - 0.5\n",
    "X_train, X_test, y_train, y_test = train_test_split(inputs, labels, shuffle=True)\n",
    "    \n",
    "trained_models = gs.fit(X_train, y_train)\n",
    "summary = pd.DataFrame(trained_models.cv_results_)\n",
    "\n",
    "summary"
   ]
  },
  {
   "cell_type": "code",
   "execution_count": null,
   "id": "7c8dac23-b3ce-4ec2-add2-cf87975bb56d",
   "metadata": {},
   "outputs": [],
   "source": [
    "best_model = trained_models.best_estimator_\n",
    "\n",
    "y_pred_class = best_model.predict(X_test)\n",
    "y_pred_prob = best_model.predict_proba(X_test)[:, 1]\n",
    "\n",
    "precision, recall, fscore, support = precision_recall_fscore_support(\n",
    "        y_test, y_pred_class, average=\"binary\"\n",
    ")\n",
    "matthews = matthews_corrcoef(y_test, y_pred_class)\n",
    "\n",
    "print(classification_report(y_test, y_pred_class, target_names=[\"no ship (0)\", \"ship (1)\"]))\n",
    "print(f\"matthews: {matthews:.2g}\")"
   ]
  }
 ],
 "metadata": {
  "kernelspec": {
   "display_name": "Python 3 (ipykernel)",
   "language": "python",
   "name": "python3"
  },
  "language_info": {
   "codemirror_mode": {
    "name": "ipython",
    "version": 3
   },
   "file_extension": ".py",
   "mimetype": "text/x-python",
   "name": "python",
   "nbconvert_exporter": "python",
   "pygments_lexer": "ipython3",
   "version": "3.9.13"
  }
 },
 "nbformat": 4,
 "nbformat_minor": 5
}
