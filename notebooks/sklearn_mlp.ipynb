{
 "cells": [
  {
   "cell_type": "code",
   "execution_count": null,
   "id": "6a20f19b-0a4f-44e1-8364-c485ebcd1ed6",
   "metadata": {},
   "outputs": [],
   "source": [
    "import matplotlib.pyplot as plt\n",
    "import numpy as np\n",
    "import pandas as pd\n",
    "from sklearn.neural_network import MLPClassifier\n",
    "from sklearn.model_selection import train_test_split\n",
    "from sklearn.metrics import (\n",
    "    ConfusionMatrixDisplay,\n",
    "    RocCurveDisplay,\n",
    "    DetCurveDisplay,\n",
    "    PrecisionRecallDisplay,\n",
    ")\n",
    "\n",
    "from shipsnet.data import load_data_from_json\n",
    "from shipsnet.viz import array_to_rgb_image"
   ]
  },
  {
   "cell_type": "code",
   "execution_count": null,
   "id": "3c7980d5-b8b8-4f2e-8b32-525ca1183fda",
   "metadata": {},
   "outputs": [],
   "source": [
    "data_dict = load_data_from_json()\n",
    "\n",
    "dataframe = pd.DataFrame(data_dict)\n",
    "dataframe.info()\n",
    "dataframe.head()"
   ]
  },
  {
   "cell_type": "code",
   "execution_count": null,
   "id": "f36ef2bc-2d62-4ef3-8d84-2deb2a16461a",
   "metadata": {},
   "outputs": [],
   "source": [
    "pixels = np.array(data_dict[\"data\"], dtype=float).reshape(-1, 3, 80, 80)\n",
    "lon, lat = np.array(data_dict[\"locations\"]).T\n",
    "labels = np.array(data_dict[\"labels\"], dtype=bool)#.astype(bool)"
   ]
  },
  {
   "cell_type": "code",
   "execution_count": null,
   "id": "f9b4b670-91e1-4675-b9dc-917dbc693670",
   "metadata": {},
   "outputs": [],
   "source": [
    "fig, axes = plt.subplots(3, 4)\n",
    "\n",
    "for array, ax in zip(np.random.permutation(pixels), axes.flatten()):\n",
    "    ax.imshow(array_to_rgb_image(array))\n",
    "    ax.set_axis_off()\n",
    "    \n",
    "fig.tight_layout()\n",
    "plt.show()"
   ]
  },
  {
   "cell_type": "code",
   "execution_count": null,
   "id": "c300f4aa-1531-4d37-ba11-b4c1ad9013c5",
   "metadata": {},
   "outputs": [],
   "source": [
    "inputs = pixels / 255 - 0.5\n",
    "X, y = inputs.reshape(-1, 3 * 80 * 80), labels.T"
   ]
  },
  {
   "cell_type": "code",
   "execution_count": null,
   "id": "64f97b78-4f1c-4596-bfa6-ff71372224db",
   "metadata": {},
   "outputs": [],
   "source": [
    "# Check reproducibility\n",
    "def reproducible_train(seed) -> list[np.ndarray]:\n",
    "    rng = np.random.RandomState(seed)\n",
    "    X_train, X_test, y_train, y_test = train_test_split(X, y, random_state=rng, shuffle=True)\n",
    "    \n",
    "    model = MLPClassifier(\n",
    "        hidden_layer_sizes=(10,),\n",
    "        shuffle=True,\n",
    "        random_state=rng,\n",
    "        early_stopping=True,\n",
    "    )\n",
    "    trained_model = model.fit(X_train, y_train)\n",
    "\n",
    "    return trained_model.coefs_ + trained_model.intercepts_\n",
    "\n",
    "seed = 123456789\n",
    "\n",
    "params_1 = reproducible_train(seed)\n",
    "params_2 = reproducible_train(seed)\n",
    "\n",
    "assert all([np.allclose(a, b) for a, b in zip(params_1, params_2)])"
   ]
  },
  {
   "cell_type": "code",
   "execution_count": null,
   "id": "f45826e0-fe96-4ce3-9bd2-25b905f7bf34",
   "metadata": {},
   "outputs": [],
   "source": [
    "seed = 1234567\n",
    "rng = np.random.RandomState(seed)\n",
    "\n",
    "X_train, X_test, y_train, y_test = train_test_split(X, y, random_state=rng, shuffle=True)\n",
    "\n",
    "model = MLPClassifier(\n",
    "    hidden_layer_sizes=(10,),\n",
    "    activation=\"relu\",\n",
    "    solver=\"adam\",\n",
    "    batch_size=8,\n",
    "    max_iter=50,\n",
    "    shuffle=True,\n",
    "    random_state=rng,\n",
    "    verbose=True,\n",
    "    early_stopping=True,\n",
    ")\n",
    "trained_model = model.fit(X_train, y_train)"
   ]
  },
  {
   "cell_type": "code",
   "execution_count": null,
   "id": "d2d0fea5-028f-4d5f-b88f-67b2e906e69f",
   "metadata": {},
   "outputs": [],
   "source": [
    "y_predicted_classes = trained_model.predict(X_test)\n",
    "y_predicted_probs = trained_model.predict_proba(X_test)[:, 1]\n",
    "\n",
    "fig, axes = plt.subplots(2, 2, figsize=(8, 8))\n",
    "\n",
    "for metric, y_pred, ax in zip(\n",
    "    [ConfusionMatrixDisplay, RocCurveDisplay, DetCurveDisplay, PrecisionRecallDisplay],\n",
    "    [y_predicted_classes, y_predicted_probs, y_predicted_probs, y_predicted_probs],\n",
    "    axes.flatten()\n",
    "):\n",
    "    disp = metric.from_predictions(y_test, y_pred, ax=ax)\n",
    "    ax.set_title(metric.__name__.replace(\"Display\", \"\"))\n",
    "\n",
    "fig.tight_layout()"
   ]
  },
  {
   "cell_type": "code",
   "execution_count": null,
   "id": "6fee2eca-9d60-4608-9086-3dac6c0fe2c0",
   "metadata": {},
   "outputs": [],
   "source": []
  }
 ],
 "metadata": {
  "kernelspec": {
   "display_name": "Python 3 (ipykernel)",
   "language": "python",
   "name": "python3"
  },
  "language_info": {
   "codemirror_mode": {
    "name": "ipython",
    "version": 3
   },
   "file_extension": ".py",
   "mimetype": "text/x-python",
   "name": "python",
   "nbconvert_exporter": "python",
   "pygments_lexer": "ipython3",
   "version": "3.9.13"
  }
 },
 "nbformat": 4,
 "nbformat_minor": 5
}
