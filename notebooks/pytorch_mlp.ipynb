{
 "cells": [
  {
   "cell_type": "code",
   "execution_count": null,
   "id": "a7ed9608-d424-4d29-8e39-ce2da0920106",
   "metadata": {},
   "outputs": [],
   "source": [
    "%load_ext tensorboard"
   ]
  },
  {
   "cell_type": "code",
   "execution_count": null,
   "id": "b787e114-fe04-4fe6-9f4b-ccdd25112aff",
   "metadata": {},
   "outputs": [],
   "source": [
    "import matplotlib.pyplot as plt\n",
    "import pytorch_lightning as pl\n",
    "import torch\n",
    "from torch.utils.data import Dataset, DataLoader, random_split\n",
    "from torchmetrics.functional import accuracy, precision_recall\n",
    "\n",
    "from shipsnet.data import ShipsDataModule\n",
    "from shipsnet.viz import array_to_rgb_image"
   ]
  },
  {
   "cell_type": "code",
   "execution_count": null,
   "id": "f9550359-98ce-4542-9f49-a001ddfb50bd",
   "metadata": {},
   "outputs": [],
   "source": [
    "datamodule = ShipsDataModule(batch_size=32, train_frac=0.75)\n",
    "\n",
    "datamodule.prepare_data()"
   ]
  },
  {
   "cell_type": "code",
   "execution_count": null,
   "id": "a109d490-5234-400a-8452-5eb4dd5ecd37",
   "metadata": {},
   "outputs": [],
   "source": [
    "datamodule.setup()"
   ]
  },
  {
   "cell_type": "code",
   "execution_count": null,
   "id": "90ec0ca1-a356-4fc8-91a9-f1015479859e",
   "metadata": {},
   "outputs": [],
   "source": [
    "inputs, labels = next(iter(datamodule.train_dataloader()))\n",
    "\n",
    "print(inputs.min(), inputs.max())\n",
    "\n",
    "fig, axes = plt.subplots(3, 4)\n",
    "\n",
    "for tensor, ax in zip(inputs + 0.5, axes.flatten()):\n",
    "    ax.imshow(array_to_rgb_image(tensor))\n",
    "    ax.set_axis_off()\n",
    "    \n",
    "fig.tight_layout()\n",
    "plt.show()"
   ]
  },
  {
   "cell_type": "code",
   "execution_count": null,
   "id": "146ec817-e34c-432e-8b78-d8f8e6aa8975",
   "metadata": {},
   "outputs": [],
   "source": [
    "class MLPClassifier(pl.LightningModule):\n",
    "    def __init__(self):\n",
    "        super().__init__()\n",
    "        \n",
    "        self.linear_1 = torch.nn.Linear(3 * 80 * 80, 10)\n",
    "        self.linear_2 = torch.nn.Linear(10, 1)\n",
    "    \n",
    "    def forward(self, data: torch.Tensor) -> float:\n",
    "        x = data.flatten(start_dim=1).float()\n",
    "        x.requires_grad_()\n",
    "        x = self.linear_1(x)\n",
    "        x = torch.nn.functional.relu(x)\n",
    "        x = self.linear_2(x)\n",
    "        pred = torch.sigmoid(x)\n",
    "        return pred\n",
    "    \n",
    "    def training_step(self, batch, batch_idx):\n",
    "        data, labels = batch\n",
    "        pred = self(data).squeeze()\n",
    "        loss = torch.nn.functional.binary_cross_entropy(pred, labels.float())\n",
    "        acc = accuracy(pred, labels)\n",
    "        self.log(\"loss\", loss, on_step=True, prog_bar=True)\n",
    "        self.log(\"accuracy\", acc, on_step=False, on_epoch=True, prog_bar=True)\n",
    "        return loss\n",
    "    \n",
    "    def validation_step(self, batch, batch_idx):\n",
    "        data, labels = batch\n",
    "        pred = self(data).squeeze()\n",
    "        prec, recall = precision_recall(pred, labels)\n",
    "        self.log(\"precision\", prec)\n",
    "        self.log(\"recall\", recall)\n",
    "        \n",
    "    def configure_optimizers(self):\n",
    "        optimizer = torch.optim.Adam(self.parameters(), lr=0.001)\n",
    "        return optimizer"
   ]
  },
  {
   "cell_type": "code",
   "execution_count": null,
   "id": "f633885c-ec25-4e62-be51-08ca0172370f",
   "metadata": {},
   "outputs": [],
   "source": [
    "model = MLPClassifier()\n",
    "trainer = pl.Trainer(max_epochs=10, logger=pl.loggers.TensorBoardLogger(\".\"))\n",
    "\n",
    "trainer.fit(model, datamodule)"
   ]
  },
  {
   "cell_type": "code",
   "execution_count": null,
   "id": "493bb5e4-fbbb-420d-b11c-d50c84770a8f",
   "metadata": {},
   "outputs": [],
   "source": [
    "%tensorboard --logdir lightning_logs\n"
   ]
  },
  {
   "cell_type": "code",
   "execution_count": null,
   "id": "ae3c804d-60b0-4a34-b2fa-d29c0e70312d",
   "metadata": {},
   "outputs": [],
   "source": []
  }
 ],
 "metadata": {
  "kernelspec": {
   "display_name": "Python 3 (ipykernel)",
   "language": "python",
   "name": "python3"
  },
  "language_info": {
   "codemirror_mode": {
    "name": "ipython",
    "version": 3
   },
   "file_extension": ".py",
   "mimetype": "text/x-python",
   "name": "python",
   "nbconvert_exporter": "python",
   "pygments_lexer": "ipython3",
   "version": "3.9.13"
  }
 },
 "nbformat": 4,
 "nbformat_minor": 5
}
