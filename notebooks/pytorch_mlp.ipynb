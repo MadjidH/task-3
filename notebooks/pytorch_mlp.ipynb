{
 "cells": [
  {
   "cell_type": "markdown",
   "id": "320c32ec-656f-4cb7-b719-1705b8d49292",
   "metadata": {},
   "source": [
    "# Multi-Layer Perceptron Binary Classifier using PyTorch"
   ]
  },
  {
   "cell_type": "code",
   "execution_count": null,
   "id": "b787e114-fe04-4fe6-9f4b-ccdd25112aff",
   "metadata": {},
   "outputs": [],
   "source": [
    "from math import isclose\n",
    "from pathlib import Path\n",
    "from warnings import filterwarnings\n",
    "\n",
    "import matplotlib.pyplot as plt\n",
    "import torch\n",
    "from pytorch_lightning import Trainer\n",
    "from pytorch_lightning.callbacks import EarlyStopping, ModelCheckpoint\n",
    "from pytorch_lightning.loggers import TensorBoardLogger\n",
    "from pytorch_lightning.utilities.seed import seed_everything\n",
    "from pytorch_lightning.utilities.model_summary import summarize\n",
    "from pytorch_lightning.utilities.warnings import PossibleUserWarning\n",
    "\n",
    "\n",
    "from shipsnet.data import ShipsDataModule\n",
    "from shipsnet.models import MLPClassifier\n",
    "from shipsnet.viz import array_to_rgb_image\n",
    "\n",
    "%load_ext jupyter_black\n",
    "\n",
    "filterwarnings(\"ignore\", category=PossibleUserWarning)"
   ]
  },
  {
   "cell_type": "markdown",
   "id": "0f543797-350f-4dff-899d-3332034c53a9",
   "metadata": {
    "tags": []
   },
   "source": [
    "# Sanity checks"
   ]
  },
  {
   "cell_type": "markdown",
   "id": "0db33704-6071-41b8-866a-db5ee45c42d1",
   "metadata": {},
   "source": [
    "## Check the datamodule loads the images correctly"
   ]
  },
  {
   "cell_type": "code",
   "execution_count": null,
   "id": "0b2808a4-195a-4aaf-bcc2-d80a14d7b1e1",
   "metadata": {},
   "outputs": [],
   "source": [
    "datamodule = ShipsDataModule()\n",
    "\n",
    "datamodule.prepare_data()\n",
    "datamodule.setup()\n",
    "\n",
    "inputs, labels = next(iter(datamodule.train_dataloader()))\n",
    "\n",
    "fig, axes = plt.subplots(3, 4)\n",
    "\n",
    "for tensor, ax in zip(inputs + 0.5, axes.flatten()):\n",
    "    ax.imshow(array_to_rgb_image(tensor))\n",
    "    ax.set_axis_off()\n",
    "\n",
    "fig.tight_layout()\n",
    "plt.show()"
   ]
  },
  {
   "cell_type": "markdown",
   "id": "66b2db55-113e-40a8-877f-ef79fd1ee2dc",
   "metadata": {},
   "source": [
    "## Check reproducibility"
   ]
  },
  {
   "cell_type": "code",
   "execution_count": null,
   "id": "679ffad9-552b-4ca6-8d6e-46ecb88f8b8f",
   "metadata": {},
   "outputs": [],
   "source": [
    "def train_and_eval():\n",
    "    \"\"\"Quickly trains model and returns validation metrics.\"\"\"\n",
    "    datamodule = ShipsDataModule()\n",
    "    model = MLPClassifier([10], \"relu\")\n",
    "    trainer = Trainer(\n",
    "        max_epochs=5,\n",
    "        logger=False,\n",
    "        enable_checkpointing=False,\n",
    "        enable_model_summary=False,\n",
    "        enable_progress_bar=False,\n",
    "    )\n",
    "    trainer.fit(model, datamodule)\n",
    "    (metrics,) = trainer.validate(model, datamodule, verbose=False)\n",
    "    return metrics\n",
    "\n",
    "\n",
    "seed = seed_everything()\n",
    "\n",
    "metrics_1 = train_and_eval()\n",
    "\n",
    "# Reset the seed and retrain - should get same results\n",
    "seed_everything(seed)\n",
    "metrics_2 = train_and_eval()\n",
    "assert all([isclose(metrics_1[k], metrics_2[k]) for k in metrics_1])\n",
    "\n",
    "# Don't reset the seed - should get different results\n",
    "metrics_3 = train_and_eval()\n",
    "assert not all([isclose(metrics_1[k], metrics_3[k]) for k in metrics_1])\n",
    "\n",
    "print(\"Reproducibility check passed!\")"
   ]
  },
  {
   "cell_type": "markdown",
   "id": "57921110-4d6f-4cb7-be32-1f2af8fed8d4",
   "metadata": {},
   "source": [
    "# Train an ensemble of classifiers\n",
    "\n",
    "Use the two cells below to train an ensemble of MLP classifiers with different hidden shapes and activation functions."
   ]
  },
  {
   "cell_type": "code",
   "execution_count": null,
   "id": "8e472c78-2857-4fb1-8d25-3927cbc25f24",
   "metadata": {},
   "outputs": [],
   "source": [
    "datamodule = ShipsDataModule(\n",
    "    batch_size=32,\n",
    "    train_frac=0.75,\n",
    "    random_split_seed=12345,\n",
    ")\n",
    "\n",
    "seed = seed_everything()\n",
    "\n",
    "model = MLPClassifier(\n",
    "    hidden_shape=[20],\n",
    "    activation=\"relu\",\n",
    ")\n",
    "\n",
    "model.save_hyperparameters({\"seed\": seed, \"class\": model.__class__.__name__})\n",
    "summarize(model, max_depth=2)"
   ]
  },
  {
   "cell_type": "code",
   "execution_count": null,
   "id": "058aca64-814c-4840-9f1e-851ca4e4f7b1",
   "metadata": {},
   "outputs": [],
   "source": [
    "early_stopping = EarlyStopping(monitor=\"val/loss\", patience=5, verbose=True)\n",
    "checkpoints = ModelCheckpoint(monitor=\"val/loss\", filename=\"{epoch:d}\")\n",
    "\n",
    "trainer = Trainer(\n",
    "    logger=TensorBoardLogger(\".\", default_hp_metric=False),\n",
    "    callbacks=[early_stopping, checkpoints],\n",
    "    enable_model_summary=False,\n",
    ")\n",
    "trainer.fit(model, datamodule)\n",
    "\n",
    "# So we can easily see where to load the checkpoint from later\n",
    "model.logger.experiment.add_text(\n",
    "    \"checkpoint_path\", str(Path(checkpoints.best_model_path).resolve())\n",
    ")"
   ]
  },
  {
   "cell_type": "markdown",
   "id": "a4b3d13f-1bda-4d41-96b9-934825bf9f44",
   "metadata": {
    "tags": []
   },
   "source": [
    "# Evaluate the best model\n",
    "\n",
    "Use Tensorboard to compare different models. When you've found the best model, load it up and run it on the test set."
   ]
  },
  {
   "cell_type": "code",
   "execution_count": null,
   "id": "493bb5e4-fbbb-420d-b11c-d50c84770a8f",
   "metadata": {},
   "outputs": [],
   "source": [
    "%load_ext tensorboard\n",
    "%tensorboard --logdir lightning_logs"
   ]
  },
  {
   "cell_type": "code",
   "execution_count": null,
   "id": "fbb42ffb-8fb9-4239-aa7b-d21dcde00125",
   "metadata": {},
   "outputs": [],
   "source": [
    "# change this to the path to the checkpoint of the best model\n",
    "best_model_path = None \n",
    "\n",
    "# Loads most recent if best_model_path is not specified\n",
    "best_model = MLPClassifier.load_from_checkpoint(\n",
    "    best_model_path or checkpoints.best_model_path\n",
    ")\n",
    "\n",
    "# Create a dummy trainer just to evaluate the model\n",
    "(test_metrics,) = Trainer(logger=False).test(best_model, datamodule)"
   ]
  }
 ],
 "metadata": {
  "kernelspec": {
   "display_name": "Python 3 (ipykernel)",
   "language": "python",
   "name": "python3"
  },
  "language_info": {
   "codemirror_mode": {
    "name": "ipython",
    "version": 3
   },
   "file_extension": ".py",
   "mimetype": "text/x-python",
   "name": "python",
   "nbconvert_exporter": "python",
   "pygments_lexer": "ipython3",
   "version": "3.9.13"
  },
  "toc-autonumbering": false,
  "toc-showcode": false,
  "toc-showmarkdowntxt": false,
  "toc-showtags": false
 },
 "nbformat": 4,
 "nbformat_minor": 5
}
